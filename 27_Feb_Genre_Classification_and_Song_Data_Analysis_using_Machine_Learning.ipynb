{
 "cells": [
  {
   "cell_type": "code",
   "execution_count": 1,
   "id": "373b1625",
   "metadata": {
    "scrolled": true
   },
   "outputs": [
    {
     "name": "stdout",
     "output_type": "stream",
     "text": [
      "Requirement already satisfied: pyspark in c:\\users\\ajinkya\\anaconda3\\lib\\site-packages (3.3.2)\n",
      "Requirement already satisfied: py4j==0.10.9.5 in c:\\users\\ajinkya\\anaconda3\\lib\\site-packages (from pyspark) (0.10.9.5)\n"
     ]
    }
   ],
   "source": [
    "# Installing pyspark on local machine\n",
    "!pip install pyspark "
   ]
  },
  {
   "cell_type": "code",
   "execution_count": 2,
   "id": "0d2c224c",
   "metadata": {},
   "outputs": [],
   "source": [
    "# Importing installed pyspark\n",
    "import pyspark"
   ]
  },
  {
   "cell_type": "code",
   "execution_count": 3,
   "id": "f9a74ffe",
   "metadata": {},
   "outputs": [],
   "source": [
    "# Importing PySpark Session \n",
    "from pyspark.sql import SparkSession"
   ]
  },
  {
   "cell_type": "code",
   "execution_count": 4,
   "id": "28b49611",
   "metadata": {},
   "outputs": [],
   "source": [
    "# Creating Spark and setting a name for the application\n",
    "spark=SparkSession.builder.appName('Project').getOrCreate()"
   ]
  },
  {
   "cell_type": "code",
   "execution_count": 5,
   "id": "7005707a",
   "metadata": {
    "scrolled": true
   },
   "outputs": [
    {
     "data": {
      "text/html": [
       "\n",
       "            <div>\n",
       "                <p><b>SparkSession - in-memory</b></p>\n",
       "                \n",
       "        <div>\n",
       "            <p><b>SparkContext</b></p>\n",
       "\n",
       "            <p><a href=\"http://SeedingYounger:4040\">Spark UI</a></p>\n",
       "\n",
       "            <dl>\n",
       "              <dt>Version</dt>\n",
       "                <dd><code>v3.3.2</code></dd>\n",
       "              <dt>Master</dt>\n",
       "                <dd><code>local[*]</code></dd>\n",
       "              <dt>AppName</dt>\n",
       "                <dd><code>Project</code></dd>\n",
       "            </dl>\n",
       "        </div>\n",
       "        \n",
       "            </div>\n",
       "        "
      ],
      "text/plain": [
       "<pyspark.sql.session.SparkSession at 0x19ec47b6550>"
      ]
     },
     "execution_count": 5,
     "metadata": {},
     "output_type": "execute_result"
    }
   ],
   "source": [
    "spark"
   ]
  },
  {
   "cell_type": "code",
   "execution_count": 18,
   "id": "e78b0fc1",
   "metadata": {},
   "outputs": [],
   "source": [
    "# Reading csv file using spark\n",
    "music = spark.read.csv('Desktop\\Project\\spotify.csv')"
   ]
  },
  {
   "cell_type": "code",
   "execution_count": 19,
   "id": "d908f157",
   "metadata": {
    "scrolled": true
   },
   "outputs": [
    {
     "name": "stdout",
     "output_type": "stream",
     "text": [
      "+--------+--------------------+--------------------+--------------------+--------------------+----------+-----------+--------+------------+------+----+--------+----+-----------+------------+----------------+--------+-------+-------+--------------+-----------+--------------------+\n",
      "|     _c0|                 _c1|                 _c2|                 _c3|                 _c4|       _c5|        _c6|     _c7|         _c8|   _c9|_c10|    _c11|_c12|       _c13|        _c14|            _c15|    _c16|   _c17|   _c18|          _c19|       _c20|                _c21|\n",
      "+--------+--------------------+--------------------+--------------------+--------------------+----------+-----------+--------+------------+------+----+--------+----+-----------+------------+----------------+--------+-------+-------+--------------+-----------+--------------------+\n",
      "|index_id|            track_id|             artists|          album_name|          track_name|popularity|duration_ms|explicit|danceability|energy| key|loudness|mode|speechiness|acousticness|instrumentalness|liveness|valence|  tempo|time_signature|track_genre|spotify_release_date|\n",
      "|       0|5SuOikwiRyPMVoIQD...|         Gen Hoshino|              Comedy|              Comedy|        73|     230666|   FALSE|       0.676| 0.461|   1|  -6.746|   0|      0.143|      0.0322|        1.01E-06|   0.358|  0.715| 87.917|             4|   acoustic|          2016-12-31|\n",
      "|       1|4qPNDBW1i3p13qLCt...|        Ben Woodward|    Ghost (Acoustic)|    Ghost - Acoustic|        55|     149610|   FALSE|        0.42| 0.166|   1| -17.235|   1|     0.0763|       0.924|        5.56E-06|   0.101|  0.267| 77.489|             4|   acoustic|          2009-02-23|\n",
      "|       2|1iJBSr7s7jYXzM8EG...|Ingrid Michaelson...|      To Begin Again|      To Begin Again|        57|     210826|   FALSE|       0.438| 0.359|   0|  -9.734|   1|     0.0557|        0.21|               0|   0.117|   0.12| 76.332|             4|   acoustic|          2014-03-26|\n",
      "|       3|6lfxq3CG4xtTiEg7o...|        Kina Grannis|Crazy Rich Asians...|Can't Help Fallin...|        71|     201933|   FALSE|       0.266|0.0596|   0| -18.515|   1|     0.0363|       0.905|        7.07E-05|   0.132|  0.143| 181.74|             3|   acoustic|          2013-02-01|\n",
      "|       4|5vjLSffimiIP26QG5...|    Chord Overstreet|             Hold On|             Hold On|        82|     198853|   FALSE|       0.618| 0.443|   2|  -9.681|   1|     0.0526|       0.469|               0|  0.0829|  0.167|119.949|             4|   acoustic|          2011-12-14|\n",
      "|       5|01MVOl9KtVTNfFiBU...|        Tyrone Wells|Days I Will Remember|Days I Will Remember|        58|     214240|   FALSE|       0.688| 0.481|   6|  -8.807|   1|      0.105|       0.289|               0|   0.189|  0.666| 98.017|             4|   acoustic|          2013-08-31|\n",
      "|       6|6Vc5wAMmXdKIAM7WU...|A Great Big World...|Is There Anybody ...|       Say Something|        74|     229400|   FALSE|       0.407| 0.147|   2|  -8.822|   1|     0.0355|       0.857|        2.89E-06|  0.0913| 0.0765|141.284|             3|   acoustic|          2020-08-23|\n",
      "|       7|1EzrEOXmMH3G43AXT...|          Jason Mraz|We Sing. We Dance...|           I'm Yours|        80|     242946|   FALSE|       0.703| 0.444|  11|  -9.331|   1|     0.0417|       0.559|               0|  0.0973|  0.712| 150.96|             4|   acoustic|          2019-08-29|\n",
      "|       8|0IktbUcnAGrvD03AW...|Jason Mraz;Colbie...|We Sing. We Dance...|               Lucky|        74|     189613|   FALSE|       0.625| 0.414|   0|    -8.7|   1|     0.0369|       0.294|               0|   0.151|  0.669|130.088|             4|   acoustic|          2018-03-18|\n",
      "|       9|7k9GuJYLp2AzqokyE...|      Ross Copperman|              Hunger|              Hunger|        56|     205594|   FALSE|       0.442| 0.632|   1|   -6.77|   1|     0.0295|       0.426|         0.00419|  0.0735|  0.196| 78.899|             4|   acoustic|          2011-11-21|\n",
      "|      10|4mzP5mHkRvGxdhdGd...|        Zack Tabudlo|             Episode|Give Me Your Forever|        74|     244800|   FALSE|       0.627| 0.363|   8|  -8.127|   1|     0.0291|       0.279|               0|  0.0928|  0.301| 99.905|             4|   acoustic|          2019-01-05|\n",
      "|      11|5ivF4eQBqJiVL5IAE...|          Jason Mraz|Love Is a Four Le...|     I Won't Give Up|        69|     240165|   FALSE|       0.483| 0.303|   4| -10.058|   1|     0.0429|       0.694|               0|   0.115|  0.139|133.406|             3|   acoustic|          2018-09-30|\n",
      "|      12|4ptDJbJl35d7gQfeN...|            Dan Berk|                Solo|                Solo|        52|     198712|   FALSE|       0.489| 0.314|   7|  -9.245|   0|     0.0331|       0.749|               0|   0.113|  0.607|124.234|             4|   acoustic|          2016-05-11|\n",
      "|      13|0X9MxHR1rTkEHDjp9...|       Anna Hamilton|            Bad Liar|            Bad Liar|        62|     248448|   FALSE|       0.691| 0.234|   3|  -6.441|   1|     0.0285|       0.777|               0|    0.12|  0.209| 87.103|             4|   acoustic|          2019-05-29|\n",
      "|      14|4LbWtBkN82ZRhz9jq...|Chord Overstreet;...|     Hold On (Remix)|     Hold On - Remix|        56|     188133|   FALSE|       0.755|  0.78|   2|  -6.084|   1|     0.0327|       0.124|        2.83E-05|   0.121|  0.387|120.004|             4|   acoustic|          2014-09-30|\n",
      "|      15|1KHdq8NK9QxnGjdXb...|         Landon Pigg|   The Boy Who Never|Falling in Love a...|        58|     244986|   FALSE|       0.489| 0.561|   4|  -7.933|   1|     0.0274|         0.2|        4.56E-05|   0.179|  0.238| 83.457|             3|   acoustic|          2017-06-20|\n",
      "|      16|6xKeQgzfjixSUld14...|Andrew Foy;Renee Foy|ily (i love you b...|ily (i love you b...|        56|     129750|   FALSE|       0.706| 0.112|   2| -18.098|   1|     0.0391|       0.827|        4.03E-06|   0.125|  0.414|110.154|             4|   acoustic|          2018-03-20|\n",
      "|      17|4Yo0igmcoNyat1sec...|Andrew Foy;Renee Foy|         At My Worst|         At My Worst|        54|     169728|   FALSE|       0.795|0.0841|  10|  -18.09|   0|     0.0461|       0.742|        1.17E-05|  0.0853|  0.609| 91.803|             4|   acoustic|          2013-10-23|\n",
      "|      18|2qLMf6TuEC3ruGJg4...|Jason Mraz;Colbie...|We Sing. We Dance...|               Lucky|        68|     189613|   FALSE|       0.625| 0.414|   0|    -8.7|   1|     0.0369|       0.294|               0|   0.151|  0.669|130.088|             4|   acoustic|          2015-01-14|\n",
      "+--------+--------------------+--------------------+--------------------+--------------------+----------+-----------+--------+------------+------+----+--------+----+-----------+------------+----------------+--------+-------+-------+--------------+-----------+--------------------+\n",
      "only showing top 20 rows\n",
      "\n"
     ]
    }
   ],
   "source": [
    "# Displaying the dataset\n",
    "music.show()"
   ]
  },
  {
   "cell_type": "code",
   "execution_count": 20,
   "id": "d7bc3ae9",
   "metadata": {},
   "outputs": [],
   "source": [
    "# Replacing Column number with header name \n",
    "music=spark.read.option('header','true').csv('Desktop\\Project\\spotify.csv')"
   ]
  },
  {
   "cell_type": "code",
   "execution_count": 21,
   "id": "de274b88",
   "metadata": {},
   "outputs": [
    {
     "data": {
      "text/plain": [
       "DataFrame[index_id: string, track_id: string, artists: string, album_name: string, track_name: string, popularity: string, duration_ms: string, explicit: string, danceability: string, energy: string, key: string, loudness: string, mode: string, speechiness: string, acousticness: string, instrumentalness: string, liveness: string, valence: string, tempo: string, time_signature: string, track_genre: string, spotify_release_date: string]"
      ]
     },
     "execution_count": 21,
     "metadata": {},
     "output_type": "execute_result"
    }
   ],
   "source": [
    "music"
   ]
  },
  {
   "cell_type": "code",
   "execution_count": 22,
   "id": "585aae57",
   "metadata": {},
   "outputs": [
    {
     "name": "stdout",
     "output_type": "stream",
     "text": [
      "+--------+--------------------+--------------------+--------------------+--------------------+----------+-----------+--------+------------+------+---+--------+----+-----------+------------+----------------+--------+-------+-------+--------------+-----------+--------------------+\n",
      "|index_id|            track_id|             artists|          album_name|          track_name|popularity|duration_ms|explicit|danceability|energy|key|loudness|mode|speechiness|acousticness|instrumentalness|liveness|valence|  tempo|time_signature|track_genre|spotify_release_date|\n",
      "+--------+--------------------+--------------------+--------------------+--------------------+----------+-----------+--------+------------+------+---+--------+----+-----------+------------+----------------+--------+-------+-------+--------------+-----------+--------------------+\n",
      "|       0|5SuOikwiRyPMVoIQD...|         Gen Hoshino|              Comedy|              Comedy|        73|     230666|   FALSE|       0.676| 0.461|  1|  -6.746|   0|      0.143|      0.0322|        1.01E-06|   0.358|  0.715| 87.917|             4|   acoustic|          2016-12-31|\n",
      "|       1|4qPNDBW1i3p13qLCt...|        Ben Woodward|    Ghost (Acoustic)|    Ghost - Acoustic|        55|     149610|   FALSE|        0.42| 0.166|  1| -17.235|   1|     0.0763|       0.924|        5.56E-06|   0.101|  0.267| 77.489|             4|   acoustic|          2009-02-23|\n",
      "|       2|1iJBSr7s7jYXzM8EG...|Ingrid Michaelson...|      To Begin Again|      To Begin Again|        57|     210826|   FALSE|       0.438| 0.359|  0|  -9.734|   1|     0.0557|        0.21|               0|   0.117|   0.12| 76.332|             4|   acoustic|          2014-03-26|\n",
      "|       3|6lfxq3CG4xtTiEg7o...|        Kina Grannis|Crazy Rich Asians...|Can't Help Fallin...|        71|     201933|   FALSE|       0.266|0.0596|  0| -18.515|   1|     0.0363|       0.905|        7.07E-05|   0.132|  0.143| 181.74|             3|   acoustic|          2013-02-01|\n",
      "|       4|5vjLSffimiIP26QG5...|    Chord Overstreet|             Hold On|             Hold On|        82|     198853|   FALSE|       0.618| 0.443|  2|  -9.681|   1|     0.0526|       0.469|               0|  0.0829|  0.167|119.949|             4|   acoustic|          2011-12-14|\n",
      "|       5|01MVOl9KtVTNfFiBU...|        Tyrone Wells|Days I Will Remember|Days I Will Remember|        58|     214240|   FALSE|       0.688| 0.481|  6|  -8.807|   1|      0.105|       0.289|               0|   0.189|  0.666| 98.017|             4|   acoustic|          2013-08-31|\n",
      "|       6|6Vc5wAMmXdKIAM7WU...|A Great Big World...|Is There Anybody ...|       Say Something|        74|     229400|   FALSE|       0.407| 0.147|  2|  -8.822|   1|     0.0355|       0.857|        2.89E-06|  0.0913| 0.0765|141.284|             3|   acoustic|          2020-08-23|\n",
      "|       7|1EzrEOXmMH3G43AXT...|          Jason Mraz|We Sing. We Dance...|           I'm Yours|        80|     242946|   FALSE|       0.703| 0.444| 11|  -9.331|   1|     0.0417|       0.559|               0|  0.0973|  0.712| 150.96|             4|   acoustic|          2019-08-29|\n",
      "|       8|0IktbUcnAGrvD03AW...|Jason Mraz;Colbie...|We Sing. We Dance...|               Lucky|        74|     189613|   FALSE|       0.625| 0.414|  0|    -8.7|   1|     0.0369|       0.294|               0|   0.151|  0.669|130.088|             4|   acoustic|          2018-03-18|\n",
      "|       9|7k9GuJYLp2AzqokyE...|      Ross Copperman|              Hunger|              Hunger|        56|     205594|   FALSE|       0.442| 0.632|  1|   -6.77|   1|     0.0295|       0.426|         0.00419|  0.0735|  0.196| 78.899|             4|   acoustic|          2011-11-21|\n",
      "|      10|4mzP5mHkRvGxdhdGd...|        Zack Tabudlo|             Episode|Give Me Your Forever|        74|     244800|   FALSE|       0.627| 0.363|  8|  -8.127|   1|     0.0291|       0.279|               0|  0.0928|  0.301| 99.905|             4|   acoustic|          2019-01-05|\n",
      "|      11|5ivF4eQBqJiVL5IAE...|          Jason Mraz|Love Is a Four Le...|     I Won't Give Up|        69|     240165|   FALSE|       0.483| 0.303|  4| -10.058|   1|     0.0429|       0.694|               0|   0.115|  0.139|133.406|             3|   acoustic|          2018-09-30|\n",
      "|      12|4ptDJbJl35d7gQfeN...|            Dan Berk|                Solo|                Solo|        52|     198712|   FALSE|       0.489| 0.314|  7|  -9.245|   0|     0.0331|       0.749|               0|   0.113|  0.607|124.234|             4|   acoustic|          2016-05-11|\n",
      "|      13|0X9MxHR1rTkEHDjp9...|       Anna Hamilton|            Bad Liar|            Bad Liar|        62|     248448|   FALSE|       0.691| 0.234|  3|  -6.441|   1|     0.0285|       0.777|               0|    0.12|  0.209| 87.103|             4|   acoustic|          2019-05-29|\n",
      "|      14|4LbWtBkN82ZRhz9jq...|Chord Overstreet;...|     Hold On (Remix)|     Hold On - Remix|        56|     188133|   FALSE|       0.755|  0.78|  2|  -6.084|   1|     0.0327|       0.124|        2.83E-05|   0.121|  0.387|120.004|             4|   acoustic|          2014-09-30|\n",
      "|      15|1KHdq8NK9QxnGjdXb...|         Landon Pigg|   The Boy Who Never|Falling in Love a...|        58|     244986|   FALSE|       0.489| 0.561|  4|  -7.933|   1|     0.0274|         0.2|        4.56E-05|   0.179|  0.238| 83.457|             3|   acoustic|          2017-06-20|\n",
      "|      16|6xKeQgzfjixSUld14...|Andrew Foy;Renee Foy|ily (i love you b...|ily (i love you b...|        56|     129750|   FALSE|       0.706| 0.112|  2| -18.098|   1|     0.0391|       0.827|        4.03E-06|   0.125|  0.414|110.154|             4|   acoustic|          2018-03-20|\n",
      "|      17|4Yo0igmcoNyat1sec...|Andrew Foy;Renee Foy|         At My Worst|         At My Worst|        54|     169728|   FALSE|       0.795|0.0841| 10|  -18.09|   0|     0.0461|       0.742|        1.17E-05|  0.0853|  0.609| 91.803|             4|   acoustic|          2013-10-23|\n",
      "|      18|2qLMf6TuEC3ruGJg4...|Jason Mraz;Colbie...|We Sing. We Dance...|               Lucky|        68|     189613|   FALSE|       0.625| 0.414|  0|    -8.7|   1|     0.0369|       0.294|               0|   0.151|  0.669|130.088|             4|   acoustic|          2015-01-14|\n",
      "|      19|6CgNoAbFJ4Q4Id4Ej...|Boyce Avenue;Bea ...|Cover Sessions, V...|          Photograph|        67|     260186|   FALSE|       0.717|  0.32|  3|  -8.393|   1|     0.0283|        0.83|               0|   0.107|  0.322|107.946|             4|   acoustic|          2017-11-30|\n",
      "+--------+--------------------+--------------------+--------------------+--------------------+----------+-----------+--------+------------+------+---+--------+----+-----------+------------+----------------+--------+-------+-------+--------------+-----------+--------------------+\n",
      "only showing top 20 rows\n",
      "\n"
     ]
    }
   ],
   "source": [
    "# Displaying the edited file\n",
    "music.show()"
   ]
  },
  {
   "cell_type": "code",
   "execution_count": 23,
   "id": "7afbb000",
   "metadata": {},
   "outputs": [
    {
     "name": "stdout",
     "output_type": "stream",
     "text": [
      "root\n",
      " |-- index_id: string (nullable = true)\n",
      " |-- track_id: string (nullable = true)\n",
      " |-- artists: string (nullable = true)\n",
      " |-- album_name: string (nullable = true)\n",
      " |-- track_name: string (nullable = true)\n",
      " |-- popularity: string (nullable = true)\n",
      " |-- duration_ms: string (nullable = true)\n",
      " |-- explicit: string (nullable = true)\n",
      " |-- danceability: string (nullable = true)\n",
      " |-- energy: string (nullable = true)\n",
      " |-- key: string (nullable = true)\n",
      " |-- loudness: string (nullable = true)\n",
      " |-- mode: string (nullable = true)\n",
      " |-- speechiness: string (nullable = true)\n",
      " |-- acousticness: string (nullable = true)\n",
      " |-- instrumentalness: string (nullable = true)\n",
      " |-- liveness: string (nullable = true)\n",
      " |-- valence: string (nullable = true)\n",
      " |-- tempo: string (nullable = true)\n",
      " |-- time_signature: string (nullable = true)\n",
      " |-- track_genre: string (nullable = true)\n",
      " |-- spotify_release_date: string (nullable = true)\n",
      "\n"
     ]
    }
   ],
   "source": [
    "# Check the schema of the dataset\n",
    "music.printSchema()"
   ]
  },
  {
   "cell_type": "code",
   "execution_count": 32,
   "id": "f7ffefaa",
   "metadata": {},
   "outputs": [],
   "source": [
    "# Changing the datatype of the columns\n",
    "from pyspark.sql.types import IntegerType\n",
    "from pyspark.sql.types import DoubleType\n",
    "from pyspark.sql.types import BooleanType\n",
    "from pyspark.sql.types import DateType\n",
    "\n",
    "music = music.withColumn(\"popularity\",music[\"popularity\"].cast(IntegerType()))\n",
    "music = music.withColumn(\"duration_ms\",music[\"duration_ms\"].cast(DoubleType()))\n",
    "music = music.withColumn(\"explicit\",music[\"explicit\"].cast(BooleanType()))\n",
    "music = music.withColumn(\"danceability\",music[\"danceability\"].cast(DoubleType()))\n",
    "music = music.withColumn(\"energy\",music[\"energy\"].cast(DoubleType()))\n",
    "music = music.withColumn(\"key\",music[\"key\"].cast(IntegerType()))\n",
    "music = music.withColumn(\"loudness\",music[\"loudness\"].cast(DoubleType()))\n",
    "music = music.withColumn(\"mode\",music[\"mode\"].cast(BooleanType()))\n",
    "music = music.withColumn(\"speechiness\",music[\"speechiness\"].cast(DoubleType()))\n",
    "music = music.withColumn(\"acousticness\",music[\"acousticness\"].cast(DoubleType()))\n",
    "music = music.withColumn(\"instrumentalness\",music[\"instrumentalness\"].cast(DoubleType()))\n",
    "music = music.withColumn(\"liveness\",music[\"liveness\"].cast(DoubleType()))\n",
    "music = music.withColumn(\"valence\",music[\"valence\"].cast(DoubleType()))\n",
    "music = music.withColumn(\"spotify_release_date\",music[\"spotify_release_date\"].cast(DateType()))"
   ]
  },
  {
   "cell_type": "code",
   "execution_count": 33,
   "id": "ef13e472",
   "metadata": {},
   "outputs": [
    {
     "name": "stdout",
     "output_type": "stream",
     "text": [
      "root\n",
      " |-- index_id: string (nullable = true)\n",
      " |-- track_id: string (nullable = true)\n",
      " |-- artists: string (nullable = true)\n",
      " |-- album_name: string (nullable = true)\n",
      " |-- track_name: string (nullable = true)\n",
      " |-- popularity: integer (nullable = true)\n",
      " |-- duration_ms: double (nullable = true)\n",
      " |-- explicit: boolean (nullable = true)\n",
      " |-- danceability: double (nullable = true)\n",
      " |-- energy: double (nullable = true)\n",
      " |-- key: integer (nullable = true)\n",
      " |-- loudness: double (nullable = true)\n",
      " |-- mode: boolean (nullable = true)\n",
      " |-- speechiness: double (nullable = true)\n",
      " |-- acousticness: double (nullable = true)\n",
      " |-- instrumentalness: double (nullable = true)\n",
      " |-- liveness: double (nullable = true)\n",
      " |-- valence: double (nullable = true)\n",
      " |-- tempo: string (nullable = true)\n",
      " |-- time_signature: string (nullable = true)\n",
      " |-- track_genre: string (nullable = true)\n",
      " |-- spotify_release_date: date (nullable = true)\n",
      "\n"
     ]
    }
   ],
   "source": [
    "music.printSchema()"
   ]
  },
  {
   "cell_type": "code",
   "execution_count": 26,
   "id": "3b2324ba",
   "metadata": {
    "scrolled": true
   },
   "outputs": [
    {
     "name": "stdout",
     "output_type": "stream",
     "text": [
      "+--------------------+\n",
      "|             artists|\n",
      "+--------------------+\n",
      "|         Gen Hoshino|\n",
      "|        Ben Woodward|\n",
      "|Ingrid Michaelson...|\n",
      "|        Kina Grannis|\n",
      "|    Chord Overstreet|\n",
      "|        Tyrone Wells|\n",
      "|A Great Big World...|\n",
      "|          Jason Mraz|\n",
      "|Jason Mraz;Colbie...|\n",
      "|      Ross Copperman|\n",
      "|        Zack Tabudlo|\n",
      "|          Jason Mraz|\n",
      "|            Dan Berk|\n",
      "|       Anna Hamilton|\n",
      "|Chord Overstreet;...|\n",
      "|         Landon Pigg|\n",
      "|Andrew Foy;Renee Foy|\n",
      "|Andrew Foy;Renee Foy|\n",
      "|Jason Mraz;Colbie...|\n",
      "|Boyce Avenue;Bea ...|\n",
      "+--------------------+\n",
      "only showing top 20 rows\n",
      "\n"
     ]
    }
   ],
   "source": [
    "# single column display\n",
    "music.select('artists').show()"
   ]
  },
  {
   "cell_type": "code",
   "execution_count": 27,
   "id": "4cb7d401",
   "metadata": {},
   "outputs": [
    {
     "name": "stdout",
     "output_type": "stream",
     "text": [
      "+--------------------+--------------------+\n",
      "|             artists|          track_name|\n",
      "+--------------------+--------------------+\n",
      "|         Gen Hoshino|              Comedy|\n",
      "|        Ben Woodward|    Ghost - Acoustic|\n",
      "|Ingrid Michaelson...|      To Begin Again|\n",
      "|        Kina Grannis|Can't Help Fallin...|\n",
      "|    Chord Overstreet|             Hold On|\n",
      "|        Tyrone Wells|Days I Will Remember|\n",
      "|A Great Big World...|       Say Something|\n",
      "|          Jason Mraz|           I'm Yours|\n",
      "|Jason Mraz;Colbie...|               Lucky|\n",
      "|      Ross Copperman|              Hunger|\n",
      "|        Zack Tabudlo|Give Me Your Forever|\n",
      "|          Jason Mraz|     I Won't Give Up|\n",
      "|            Dan Berk|                Solo|\n",
      "|       Anna Hamilton|            Bad Liar|\n",
      "|Chord Overstreet;...|     Hold On - Remix|\n",
      "|         Landon Pigg|Falling in Love a...|\n",
      "|Andrew Foy;Renee Foy|ily (i love you b...|\n",
      "|Andrew Foy;Renee Foy|         At My Worst|\n",
      "|Jason Mraz;Colbie...|               Lucky|\n",
      "|Boyce Avenue;Bea ...|          Photograph|\n",
      "+--------------------+--------------------+\n",
      "only showing top 20 rows\n",
      "\n"
     ]
    }
   ],
   "source": [
    "# display multiple column\n",
    "music.select(['artists','track_name']).show()"
   ]
  },
  {
   "cell_type": "code",
   "execution_count": 28,
   "id": "97b618b4",
   "metadata": {},
   "outputs": [
    {
     "data": {
      "text/plain": [
       "113865"
      ]
     },
     "execution_count": 28,
     "metadata": {},
     "output_type": "execute_result"
    }
   ],
   "source": [
    "# Deleting null values\n",
    "music.na.drop(how='any').count()"
   ]
  },
  {
   "cell_type": "markdown",
   "id": "3c88c5d1",
   "metadata": {},
   "source": [
    "Total 135 rows with any null value are deleted"
   ]
  },
  {
   "cell_type": "code",
   "execution_count": 29,
   "id": "876cc7f8",
   "metadata": {},
   "outputs": [
    {
     "name": "stdout",
     "output_type": "stream",
     "text": [
      "+--------+--------------------+--------------------+--------------------+--------------------+----------+-----------+--------+------------+------+---+--------+-----+-----------+------------+----------------+--------+-------+-------+--------------+-----------+--------------------+\n",
      "|index_id|            track_id|             artists|          album_name|          track_name|popularity|duration_ms|explicit|danceability|energy|key|loudness| mode|speechiness|acousticness|instrumentalness|liveness|valence|  tempo|time_signature|track_genre|spotify_release_date|\n",
      "+--------+--------------------+--------------------+--------------------+--------------------+----------+-----------+--------+------------+------+---+--------+-----+-----------+------------+----------------+--------+-------+-------+--------------+-----------+--------------------+\n",
      "|       0|5SuOikwiRyPMVoIQD...|         Gen Hoshino|              Comedy|              Comedy|        73|   230666.0|   false|       0.676| 0.461|  1|  -6.746|false|      0.143|      0.0322|         1.01E-6|   0.358|  0.715| 87.917|             4|   acoustic|          2016-12-31|\n",
      "|       1|4qPNDBW1i3p13qLCt...|        Ben Woodward|    Ghost (Acoustic)|    Ghost - Acoustic|        55|   149610.0|   false|        0.42| 0.166|  1| -17.235| true|     0.0763|       0.924|         5.56E-6|   0.101|  0.267| 77.489|             4|   acoustic|          2009-02-23|\n",
      "|       2|1iJBSr7s7jYXzM8EG...|Ingrid Michaelson...|      To Begin Again|      To Begin Again|        57|   210826.0|   false|       0.438| 0.359|  0|  -9.734| true|     0.0557|        0.21|             0.0|   0.117|   0.12| 76.332|             4|   acoustic|          2014-03-26|\n",
      "|       3|6lfxq3CG4xtTiEg7o...|        Kina Grannis|Crazy Rich Asians...|Can't Help Fallin...|        71|   201933.0|   false|       0.266|0.0596|  0| -18.515| true|     0.0363|       0.905|         7.07E-5|   0.132|  0.143| 181.74|             3|   acoustic|          2013-02-01|\n",
      "|       4|5vjLSffimiIP26QG5...|    Chord Overstreet|             Hold On|             Hold On|        82|   198853.0|   false|       0.618| 0.443|  2|  -9.681| true|     0.0526|       0.469|             0.0|  0.0829|  0.167|119.949|             4|   acoustic|          2011-12-14|\n",
      "|       5|01MVOl9KtVTNfFiBU...|        Tyrone Wells|Days I Will Remember|Days I Will Remember|        58|   214240.0|   false|       0.688| 0.481|  6|  -8.807| true|      0.105|       0.289|             0.0|   0.189|  0.666| 98.017|             4|   acoustic|          2013-08-31|\n",
      "|       6|6Vc5wAMmXdKIAM7WU...|A Great Big World...|Is There Anybody ...|       Say Something|        74|   229400.0|   false|       0.407| 0.147|  2|  -8.822| true|     0.0355|       0.857|         2.89E-6|  0.0913| 0.0765|141.284|             3|   acoustic|          2020-08-23|\n",
      "|       7|1EzrEOXmMH3G43AXT...|          Jason Mraz|We Sing. We Dance...|           I'm Yours|        80|   242946.0|   false|       0.703| 0.444| 11|  -9.331| true|     0.0417|       0.559|             0.0|  0.0973|  0.712| 150.96|             4|   acoustic|          2019-08-29|\n",
      "|       8|0IktbUcnAGrvD03AW...|Jason Mraz;Colbie...|We Sing. We Dance...|               Lucky|        74|   189613.0|   false|       0.625| 0.414|  0|    -8.7| true|     0.0369|       0.294|             0.0|   0.151|  0.669|130.088|             4|   acoustic|          2018-03-18|\n",
      "|       9|7k9GuJYLp2AzqokyE...|      Ross Copperman|              Hunger|              Hunger|        56|   205594.0|   false|       0.442| 0.632|  1|   -6.77| true|     0.0295|       0.426|         0.00419|  0.0735|  0.196| 78.899|             4|   acoustic|          2011-11-21|\n",
      "|      10|4mzP5mHkRvGxdhdGd...|        Zack Tabudlo|             Episode|Give Me Your Forever|        74|   244800.0|   false|       0.627| 0.363|  8|  -8.127| true|     0.0291|       0.279|             0.0|  0.0928|  0.301| 99.905|             4|   acoustic|          2019-01-05|\n",
      "|      11|5ivF4eQBqJiVL5IAE...|          Jason Mraz|Love Is a Four Le...|     I Won't Give Up|        69|   240165.0|   false|       0.483| 0.303|  4| -10.058| true|     0.0429|       0.694|             0.0|   0.115|  0.139|133.406|             3|   acoustic|          2018-09-30|\n",
      "|      12|4ptDJbJl35d7gQfeN...|            Dan Berk|                Solo|                Solo|        52|   198712.0|   false|       0.489| 0.314|  7|  -9.245|false|     0.0331|       0.749|             0.0|   0.113|  0.607|124.234|             4|   acoustic|          2016-05-11|\n",
      "|      13|0X9MxHR1rTkEHDjp9...|       Anna Hamilton|            Bad Liar|            Bad Liar|        62|   248448.0|   false|       0.691| 0.234|  3|  -6.441| true|     0.0285|       0.777|             0.0|    0.12|  0.209| 87.103|             4|   acoustic|          2019-05-29|\n",
      "|      14|4LbWtBkN82ZRhz9jq...|Chord Overstreet;...|     Hold On (Remix)|     Hold On - Remix|        56|   188133.0|   false|       0.755|  0.78|  2|  -6.084| true|     0.0327|       0.124|         2.83E-5|   0.121|  0.387|120.004|             4|   acoustic|          2014-09-30|\n",
      "|      15|1KHdq8NK9QxnGjdXb...|         Landon Pigg|   The Boy Who Never|Falling in Love a...|        58|   244986.0|   false|       0.489| 0.561|  4|  -7.933| true|     0.0274|         0.2|         4.56E-5|   0.179|  0.238| 83.457|             3|   acoustic|          2017-06-20|\n",
      "|      16|6xKeQgzfjixSUld14...|Andrew Foy;Renee Foy|ily (i love you b...|ily (i love you b...|        56|   129750.0|   false|       0.706| 0.112|  2| -18.098| true|     0.0391|       0.827|         4.03E-6|   0.125|  0.414|110.154|             4|   acoustic|          2018-03-20|\n",
      "|      17|4Yo0igmcoNyat1sec...|Andrew Foy;Renee Foy|         At My Worst|         At My Worst|        54|   169728.0|   false|       0.795|0.0841| 10|  -18.09|false|     0.0461|       0.742|         1.17E-5|  0.0853|  0.609| 91.803|             4|   acoustic|          2013-10-23|\n",
      "|      18|2qLMf6TuEC3ruGJg4...|Jason Mraz;Colbie...|We Sing. We Dance...|               Lucky|        68|   189613.0|   false|       0.625| 0.414|  0|    -8.7| true|     0.0369|       0.294|             0.0|   0.151|  0.669|130.088|             4|   acoustic|          2015-01-14|\n",
      "|      19|6CgNoAbFJ4Q4Id4Ej...|Boyce Avenue;Bea ...|Cover Sessions, V...|          Photograph|        67|   260186.0|   false|       0.717|  0.32|  3|  -8.393| true|     0.0283|        0.83|             0.0|   0.107|  0.322|107.946|             4|   acoustic|          2017-11-30|\n",
      "+--------+--------------------+--------------------+--------------------+--------------------+----------+-----------+--------+------------+------+---+--------+-----+-----------+------------+----------------+--------+-------+-------+--------------+-----------+--------------------+\n",
      "only showing top 20 rows\n",
      "\n"
     ]
    }
   ],
   "source": [
    "music.show()"
   ]
  }
 ],
 "metadata": {
  "kernelspec": {
   "display_name": "Python 3 (ipykernel)",
   "language": "python",
   "name": "python3"
  },
  "language_info": {
   "codemirror_mode": {
    "name": "ipython",
    "version": 3
   },
   "file_extension": ".py",
   "mimetype": "text/x-python",
   "name": "python",
   "nbconvert_exporter": "python",
   "pygments_lexer": "ipython3",
   "version": "3.9.13"
  }
 },
 "nbformat": 4,
 "nbformat_minor": 5
}
